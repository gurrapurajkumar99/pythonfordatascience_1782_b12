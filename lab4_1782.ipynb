{
  "nbformat": 4,
  "nbformat_minor": 0,
  "metadata": {
    "colab": {
      "provenance": [],
      "authorship_tag": "ABX9TyPfvlKW+SPsLnzbdc3NY/kq",
      "include_colab_link": true
    },
    "kernelspec": {
      "name": "python3",
      "display_name": "Python 3"
    },
    "language_info": {
      "name": "python"
    }
  },
  "cells": [
    {
      "cell_type": "markdown",
      "metadata": {
        "id": "view-in-github",
        "colab_type": "text"
      },
      "source": [
        "<a href=\"https://colab.research.google.com/github/gurrapurajkumar99/pythonfordatascience_1782_b12/blob/main/lab4_1782.ipynb\" target=\"_parent\"><img src=\"https://colab.research.google.com/assets/colab-badge.svg\" alt=\"Open In Colab\"/></a>"
      ]
    },
    {
      "cell_type": "code",
      "execution_count": 3,
      "metadata": {
        "colab": {
          "base_uri": "https://localhost:8080/"
        },
        "id": "6bB6jJkywwvy",
        "outputId": "4654c6fa-b74d-49dc-ddc6-49b5119272ad"
      },
      "outputs": [
        {
          "output_type": "stream",
          "name": "stdout",
          "text": [
            "Sample student_scores.csv created successfully ✅\n",
            "   Student_ID   Name  Math  Science  English\n",
            "0           1   Asha  80.0     85.0     88.0\n",
            "1           2    Raj  90.0      NaN     76.0\n",
            "2           3  Kiran   NaN     70.0     85.0\n",
            "3           4  Deepa  60.0     78.0      NaN\n",
            "4           5  Manoj  95.0     92.0     90.0\n"
          ]
        }
      ],
      "source": [
        "import pandas as pd\n",
        "\n",
        "# Create sample data\n",
        "data = {\n",
        "    \"Student_ID\": [1, 2, 3, 4, 5],\n",
        "    \"Name\": [\"Asha\", \"Raj\", \"Kiran\", \"Deepa\", \"Manoj\"],\n",
        "    \"Math\": [80, 90, None, 60, 95],\n",
        "    \"Science\": [85, None, 70, 78, 92],\n",
        "    \"English\": [88, 76, 85, None, 90]\n",
        "}\n",
        "\n",
        "# Save to CSV\n",
        "df = pd.DataFrame(data)\n",
        "df.to_csv(\"student_scores.csv\", index=False)\n",
        "\n",
        "print(\"Sample student_scores.csv created successfully ✅\")\n",
        "print(df)"
      ]
    },
    {
      "cell_type": "markdown",
      "metadata": {
        "id": "a35bf89a"
      },
      "source": [
        "Please upload the `student_scores.csv` file using the following cell:"
      ]
    },
    {
      "cell_type": "code",
      "source": [
        "import pandas as pd\n",
        "\n",
        "# Load dataset with the correct name\n",
        "patients = pd.read_csv(\"/content/patients (1).csv\")\n",
        "\n",
        "# Display original data\n",
        "print(\"Original Data:\\n\", patients)\n",
        "\n",
        "# Replace missing Age with median\n",
        "patients['Age'].fillna(patients['Age'].median(), inplace=True)\n",
        "\n",
        "print(\"\\nData After Filling Missing Age:\\n\", patients)\n",
        "\n",
        "# Filter female patients above 50 with Diabetes diagnosis\n",
        "elderly_females_diabetes = patients[\n",
        "    (patients['Gender'].str.lower() == 'female') &\n",
        "    (patients['Age'] > 50) &\n",
        "    (patients['Diagnosis'].str.lower() == 'diabetes')\n",
        "]\n",
        "\n",
        "print(\"\\nElderly Female Patients with Diabetes:\\n\", elderly_females_diabetes)"
      ],
      "metadata": {
        "colab": {
          "base_uri": "https://localhost:8080/"
        },
        "id": "x8lNwRuq2hwM",
        "outputId": "21d5f9d2-8dbf-4935-d834-9dd46f35afad"
      },
      "execution_count": 12,
      "outputs": [
        {
          "output_type": "stream",
          "name": "stdout",
          "text": [
            "Original Data:\n",
            "    Patient_ID    Name   Age  Gender     Diagnosis Admission_Date\n",
            "0         101   Alice  65.0  Female      Diabetes     2025-08-01\n",
            "1         102     Bob  45.0    Male  Hypertension     2025-07-15\n",
            "2         103   Clara   NaN  Female      Diabetes     2025-06-10\n",
            "3         104   David  72.0    Male        Asthma     2025-08-12\n",
            "4         105     Eva  54.0  Female      Diabetes     2025-07-20\n",
            "5         106  Fatima   NaN  Female      Diabetes     2025-08-18\n",
            "\n",
            "Data After Filling Missing Age:\n",
            "    Patient_ID    Name   Age  Gender     Diagnosis Admission_Date\n",
            "0         101   Alice  65.0  Female      Diabetes     2025-08-01\n",
            "1         102     Bob  45.0    Male  Hypertension     2025-07-15\n",
            "2         103   Clara  59.5  Female      Diabetes     2025-06-10\n",
            "3         104   David  72.0    Male        Asthma     2025-08-12\n",
            "4         105     Eva  54.0  Female      Diabetes     2025-07-20\n",
            "5         106  Fatima  59.5  Female      Diabetes     2025-08-18\n",
            "\n",
            "Elderly Female Patients with Diabetes:\n",
            "    Patient_ID    Name   Age  Gender Diagnosis Admission_Date\n",
            "0         101   Alice  65.0  Female  Diabetes     2025-08-01\n",
            "2         103   Clara  59.5  Female  Diabetes     2025-06-10\n",
            "4         105     Eva  54.0  Female  Diabetes     2025-07-20\n",
            "5         106  Fatima  59.5  Female  Diabetes     2025-08-18\n"
          ]
        },
        {
          "output_type": "stream",
          "name": "stderr",
          "text": [
            "/tmp/ipython-input-1912991558.py:10: FutureWarning: A value is trying to be set on a copy of a DataFrame or Series through chained assignment using an inplace method.\n",
            "The behavior will change in pandas 3.0. This inplace method will never work because the intermediate object on which we are setting values always behaves as a copy.\n",
            "\n",
            "For example, when doing 'df[col].method(value, inplace=True)', try using 'df.method({col: value}, inplace=True)' or df[col] = df[col].method(value) instead, to perform the operation inplace on the original object.\n",
            "\n",
            "\n",
            "  patients['Age'].fillna(patients['Age'].median(), inplace=True)\n"
          ]
        }
      ]
    }
  ]
}