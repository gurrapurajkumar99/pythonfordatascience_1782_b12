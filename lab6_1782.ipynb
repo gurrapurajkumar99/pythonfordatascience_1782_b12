{
  "nbformat": 4,
  "nbformat_minor": 0,
  "metadata": {
    "colab": {
      "provenance": [],
      "authorship_tag": "ABX9TyPq1JI5rdoXYsEgJhF5j0OO",
      "include_colab_link": true
    },
    "kernelspec": {
      "name": "python3",
      "display_name": "Python 3"
    },
    "language_info": {
      "name": "python"
    }
  },
  "cells": [
    {
      "cell_type": "markdown",
      "metadata": {
        "id": "view-in-github",
        "colab_type": "text"
      },
      "source": [
        "<a href=\"https://colab.research.google.com/github/gurrapurajkumar99/pythonfordatascience_1782_b12/blob/main/lab6_1782.ipynb\" target=\"_parent\"><img src=\"https://colab.research.google.com/assets/colab-badge.svg\" alt=\"Open In Colab\"/></a>"
      ]
    },
    {
      "cell_type": "code",
      "execution_count": 3,
      "metadata": {
        "colab": {
          "base_uri": "https://localhost:8080/"
        },
        "id": "4j7hFIga9qnk",
        "outputId": "859d9104-041c-4034-8de3-58a19c676741"
      },
      "outputs": [
        {
          "output_type": "stream",
          "name": "stdout",
          "text": [
            "Original Dataset:\n",
            "    TransactionID Customer     Product  Amount        Date\n",
            "0            101    Alice      Laptop    1200  2025-09-01\n",
            "1            102      Bob       Phone     800  2025-09-02\n",
            "2            103  Charlie      Tablet     600  2025-09-02\n",
            "3            104    David  Headphones     150  2025-09-03\n",
            "4            104    David  Headphones     150  2025-09-03\n",
            "5            105      Eva     Charger      50  2025-09-04\n",
            "6            106    Frank      Laptop    1200  2025-09-05\n",
            "7            106    Frank      Laptop    1200  2025-09-05\n",
            "8            107    Grace       Phone     800  2025-09-06\n",
            "\n",
            "Duplicate Rows:\n",
            "   TransactionID Customer     Product  Amount        Date\n",
            "4            104    David  Headphones     150  2025-09-03\n",
            "7            106    Frank      Laptop    1200  2025-09-05\n",
            "\n",
            "Number of duplicate rows before cleaning: 2\n",
            "\n",
            "Number of duplicate rows after cleaning: 0\n",
            "\n",
            "Cleaned Dataset:\n",
            "    TransactionID Customer     Product  Amount        Date\n",
            "0            101    Alice      Laptop    1200  2025-09-01\n",
            "1            102      Bob       Phone     800  2025-09-02\n",
            "2            103  Charlie      Tablet     600  2025-09-02\n",
            "3            104    David  Headphones     150  2025-09-03\n",
            "5            105      Eva     Charger      50  2025-09-04\n",
            "6            106    Frank      Laptop    1200  2025-09-05\n",
            "8            107    Grace       Phone     800  2025-09-06\n"
          ]
        }
      ],
      "source": [
        "import pandas as pd\n",
        "\n",
        "data = {\n",
        "    \"TransactionID\": [101, 102, 103, 104, 104, 105, 106, 106, 107],\n",
        "    \"Customer\": [\"Alice\", \"Bob\", \"Charlie\", \"David\", \"David\",\n",
        "                 \"Eva\", \"Frank\", \"Frank\", \"Grace\"],\n",
        "    \"Product\": [\"Laptop\", \"Phone\", \"Tablet\", \"Headphones\", \"Headphones\",\n",
        "                \"Charger\", \"Laptop\", \"Laptop\", \"Phone\"],\n",
        "    \"Amount\": [1200, 800, 600, 150, 150, 50, 1200, 1200, 800],\n",
        "    \"Date\": [\"2025-09-01\", \"2025-09-02\", \"2025-09-02\", \"2025-09-03\", \"2025-09-03\",\n",
        "             \"2025-09-04\", \"2025-09-05\", \"2025-09-05\", \"2025-09-06\"]\n",
        "}\n",
        "\n",
        "df = pd.DataFrame(data)\n",
        "print(\"Original Dataset:\\n\", df)\n",
        "print(\"\\nDuplicate Rows:\")\n",
        "print(df[df.duplicated()])\n",
        "\n",
        "print(f\"\\nNumber of duplicate rows before cleaning: {df.duplicated().sum()}\")\n",
        "\n",
        "df_cleaned = df.drop_duplicates()\n",
        "\n",
        "print(f\"\\nNumber of duplicate rows after cleaning: {df_cleaned.duplicated().sum()}\")\n",
        "print(\"\\nCleaned Dataset:\\n\", df_cleaned)"
      ]
    },
    {
      "cell_type": "code",
      "source": [
        "import pandas as pd\n",
        "\n",
        "\n",
        "data = {\n",
        "    \"EmployeeID\": [1, 2, 3, 4],\n",
        "    \"Name\": [\"Alice\", \"Bob\", \"Charlie\", \"David\"],\n",
        "    \"Salary\": [\"50000\", \"60000\", \"55000\", \"70000\"],   # stored as string\n",
        "    \"Joining_Date\": [\"2023-01-15\", \"2022-11-20\", \"2021-07-30\", \"2023-09-10\"]  # string\n",
        "}\n",
        "\n",
        "df = pd.DataFrame(data)\n",
        "print(\"Original Dataset:\\n\", df)\n",
        "\n",
        "print(\"\\nOriginal Data Types:\")\n",
        "print(df.dtypes)\n",
        "\n",
        "\n",
        "\n",
        "df[\"Salary\"] = pd.to_numeric(df[\"Salary\"])\n",
        "\n",
        "\n",
        "df[\"Joining_Date\"] = pd.to_datetime(df[\"Joining_Date\"])\n",
        "\n",
        "\n",
        "print(\"\\nDataset After Type Conversion:\\n\", df)\n",
        "\n",
        "print(\"\\nCorrected Data Types:\")\n",
        "print(df.dtypes)"
      ],
      "metadata": {
        "colab": {
          "base_uri": "https://localhost:8080/"
        },
        "id": "Sc2sN0GT_F11",
        "outputId": "189c41a3-4db9-478b-c5cc-f01001479281"
      },
      "execution_count": 2,
      "outputs": [
        {
          "output_type": "stream",
          "name": "stdout",
          "text": [
            "Original Dataset:\n",
            "    EmployeeID     Name Salary Joining_Date\n",
            "0           1    Alice  50000   2023-01-15\n",
            "1           2      Bob  60000   2022-11-20\n",
            "2           3  Charlie  55000   2021-07-30\n",
            "3           4    David  70000   2023-09-10\n",
            "\n",
            "Original Data Types:\n",
            "EmployeeID       int64\n",
            "Name            object\n",
            "Salary          object\n",
            "Joining_Date    object\n",
            "dtype: object\n",
            "\n",
            "Dataset After Type Conversion:\n",
            "    EmployeeID     Name  Salary Joining_Date\n",
            "0           1    Alice   50000   2023-01-15\n",
            "1           2      Bob   60000   2022-11-20\n",
            "2           3  Charlie   55000   2021-07-30\n",
            "3           4    David   70000   2023-09-10\n",
            "\n",
            "Corrected Data Types:\n",
            "EmployeeID               int64\n",
            "Name                    object\n",
            "Salary                   int64\n",
            "Joining_Date    datetime64[ns]\n",
            "dtype: object\n"
          ]
        }
      ]
    }
  ]
}