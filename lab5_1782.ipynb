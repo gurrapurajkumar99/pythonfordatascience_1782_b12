{
  "nbformat": 4,
  "nbformat_minor": 0,
  "metadata": {
    "colab": {
      "provenance": [],
      "authorship_tag": "ABX9TyMviCUX2x3fek7JrOseiQIm",
      "include_colab_link": true
    },
    "kernelspec": {
      "name": "python3",
      "display_name": "Python 3"
    },
    "language_info": {
      "name": "python"
    }
  },
  "cells": [
    {
      "cell_type": "markdown",
      "metadata": {
        "id": "view-in-github",
        "colab_type": "text"
      },
      "source": [
        "<a href=\"https://colab.research.google.com/github/gurrapurajkumar99/pythonfordatascience_1782_b12/blob/main/lab5_1782.ipynb\" target=\"_parent\"><img src=\"https://colab.research.google.com/assets/colab-badge.svg\" alt=\"Open In Colab\"/></a>"
      ]
    },
    {
      "cell_type": "code",
      "execution_count": 1,
      "metadata": {
        "colab": {
          "base_uri": "https://localhost:8080/"
        },
        "id": "5b32NNna8sUf",
        "outputId": "fffc0dbf-8918-4a11-8fc5-5cd38c5ed4af"
      },
      "outputs": [
        {
          "output_type": "stream",
          "name": "stdout",
          "text": [
            "Products Dataset:\n",
            "    product_id product_name     category  price\n",
            "0         101       Laptop  Electronics  60000\n",
            "1         102        Mouse  Accessories    800\n",
            "2         103     Keyboard  Accessories   1500\n",
            "3         104      Monitor  Electronics  12000\n",
            "4         105      Printer  Electronics   7000 \n",
            "\n",
            "Sales Dataset:\n",
            "    sale_id  product_id  quantity\n",
            "0        1         101         3\n",
            "1        2         102        10\n",
            "2        3         103         5\n",
            "3        4         104         2\n",
            "4        5         101         1\n",
            "5        6         102         4\n",
            "6        7         105         6 \n",
            "\n",
            "Inner Join:\n",
            "    sale_id  product_id  quantity product_name     category  price\n",
            "0        1         101         3       Laptop  Electronics  60000\n",
            "1        2         102        10        Mouse  Accessories    800\n",
            "2        3         103         5     Keyboard  Accessories   1500\n",
            "3        4         104         2      Monitor  Electronics  12000\n",
            "4        5         101         1       Laptop  Electronics  60000\n",
            "5        6         102         4        Mouse  Accessories    800\n",
            "6        7         105         6      Printer  Electronics   7000 \n",
            "\n",
            "Outer Join:\n",
            "    sale_id  product_id  quantity product_name     category  price\n",
            "0        1         101         3       Laptop  Electronics  60000\n",
            "1        5         101         1       Laptop  Electronics  60000\n",
            "2        2         102        10        Mouse  Accessories    800\n",
            "3        6         102         4        Mouse  Accessories    800\n",
            "4        3         103         5     Keyboard  Accessories   1500\n",
            "5        4         104         2      Monitor  Electronics  12000\n",
            "6        7         105         6      Printer  Electronics   7000 \n",
            "\n",
            "Total Revenue: 324700\n",
            "Average Price: 20300.0 \n",
            "\n",
            "Product-wise Sales:\n",
            "   product_name  quantity\n",
            "0     Keyboard         5\n",
            "1       Laptop         4\n",
            "2      Monitor         2\n",
            "3        Mouse        14\n",
            "4      Printer         6 \n",
            "\n",
            "Revenue by Product:\n",
            "   product_name  revenue\n",
            "0     Keyboard     7500\n",
            "1       Laptop   240000\n",
            "2      Monitor    24000\n",
            "3        Mouse    11200\n",
            "4      Printer    42000 \n",
            "\n",
            "Revenue by Category:\n",
            "       category  revenue\n",
            "0  Accessories    18700\n",
            "1  Electronics   306000 \n",
            "\n",
            "Best-Selling Category: Electronics with revenue 306000\n"
          ]
        }
      ],
      "source": [
        "import pandas as pd\n",
        "\n",
        "products_data = {\n",
        "    \"product_id\": [101, 102, 103, 104, 105],\n",
        "    \"product_name\": [\"Laptop\", \"Mouse\", \"Keyboard\", \"Monitor\", \"Printer\"],\n",
        "    \"category\": [\"Electronics\", \"Accessories\", \"Accessories\", \"Electronics\", \"Electronics\"],\n",
        "    \"price\": [60000, 800, 1500, 12000, 7000]\n",
        "}\n",
        "\n",
        "products_df = pd.DataFrame(products_data)\n",
        "print(\"Products Dataset:\\n\", products_df, \"\\n\")\n",
        "\n",
        "sales_data = {\n",
        "    \"sale_id\": [1, 2, 3, 4, 5, 6, 7],\n",
        "    \"product_id\": [101, 102, 103, 104, 101, 102, 105],\n",
        "    \"quantity\": [3, 10, 5, 2, 1, 4, 6]\n",
        "}\n",
        "\n",
        "sales_df = pd.DataFrame(sales_data)\n",
        "print(\"Sales Dataset:\\n\", sales_df, \"\\n\")\n",
        "\n",
        "inner_merged = pd.merge(sales_df, products_df, on=\"product_id\", how=\"inner\")\n",
        "print(\"Inner Join:\\n\", inner_merged, \"\\n\")\n",
        "\n",
        "outer_merged = pd.merge(sales_df, products_df, on=\"product_id\", how=\"outer\")\n",
        "print(\"Outer Join:\\n\", outer_merged, \"\\n\")\n",
        "\n",
        "inner_merged[\"revenue\"] = inner_merged[\"quantity\"] * inner_merged[\"price\"]\n",
        "\n",
        "total_revenue = inner_merged[\"revenue\"].sum()\n",
        "average_price = inner_merged[\"price\"].mean()\n",
        "product_sales = inner_merged.groupby(\"product_name\")[\"quantity\"].sum().reset_index()\n",
        "product_revenue = inner_merged.groupby(\"product_name\")[\"revenue\"].sum().reset_index()\n",
        "category_sales = inner_merged.groupby(\"category\")[\"revenue\"].sum().reset_index()\n",
        "best_category = category_sales.loc[category_sales[\"revenue\"].idxmax()]\n",
        "\n",
        "print(\"Total Revenue:\", total_revenue)\n",
        "print(\"Average Price:\", average_price, \"\\n\")\n",
        "print(\"Product-wise Sales:\\n\", product_sales, \"\\n\")\n",
        "print(\"Revenue by Product:\\n\", product_revenue, \"\\n\")\n",
        "print(\"Revenue by Category:\\n\", category_sales, \"\\n\")\n",
        "print(\"Best-Selling Category:\", best_category[\"category\"], \"with revenue\", best_category[\"revenue\"])\n"
      ]
    }
  ]
}